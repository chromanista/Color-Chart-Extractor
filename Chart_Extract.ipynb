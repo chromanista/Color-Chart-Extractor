{
  "nbformat": 4,
  "nbformat_minor": 0,
  "metadata": {
    "colab": {
      "provenance": []
    },
    "kernelspec": {
      "name": "python3",
      "display_name": "Python 3"
    },
    "language_info": {
      "name": "python"
    }
  },
  "cells": [
    {
      "cell_type": "markdown",
      "source": [
        "# Chromanista Color Chart Extractor (beta)"
      ],
      "metadata": {
        "id": "A6LLeGrOxa7z"
      }
    },
    {
      "cell_type": "code",
      "source": [
        "#@title Setup\n",
        "\n",
        "#@markdown Initializes dependencies and runs setup code. This cell only needs to be run once.\n",
        "\n",
        "# Imports\n",
        "import numpy as np\n",
        "import PIL\n",
        "from google.colab import files\n",
        "from IPython.display import Image\n",
        "#print('PIL',PIL.__version__)\n",
        "\n",
        "chart_video = {\n",
        "    \"name\": \"ColorChecker Video\",\n",
        "    \"chip size\": 100,\n",
        "    \"cells\": [\n",
        "        {\"x_pos\": 304, \"y_pos\": 98},\n",
        "        {\"x_pos\": 304, \"y_pos\": 228},\n",
        "        {\"x_pos\": 304, \"y_pos\": 358},\n",
        "        {\"x_pos\": 304, \"y_pos\": 488},\n",
        "        {\"x_pos\": 304, \"y_pos\": 618},\n",
        "        {\"x_pos\": 304, \"y_pos\": 748},\n",
        "        {\"x_pos\": 304, \"y_pos\": 878},\n",
        "        {\"x_pos\": 439, \"y_pos\": 98},\n",
        "        {\"x_pos\": 439, \"y_pos\": 228},\n",
        "        {\"x_pos\": 439, \"y_pos\": 358},\n",
        "        {\"x_pos\": 439, \"y_pos\": 488},\n",
        "        {\"x_pos\": 439, \"y_pos\": 618},\n",
        "        {\"x_pos\": 439, \"y_pos\": 748},\n",
        "        {\"x_pos\": 439, \"y_pos\": 878},\n",
        "        {\"x_pos\": 1409, \"y_pos\": 98},\n",
        "        {\"x_pos\": 1409, \"y_pos\": 228},\n",
        "        {\"x_pos\": 1409, \"y_pos\": 358},\n",
        "        {\"x_pos\": 1409, \"y_pos\": 488},\n",
        "        {\"x_pos\": 1409, \"y_pos\": 618},\n",
        "        {\"x_pos\": 1409, \"y_pos\": 748},\n",
        "        {\"x_pos\": 1409, \"y_pos\": 878},\n",
        "        {\"x_pos\": 1544, \"y_pos\": 98},\n",
        "        {\"x_pos\": 1544, \"y_pos\": 228},\n",
        "        {\"x_pos\": 1544, \"y_pos\": 358},\n",
        "        {\"x_pos\": 1544, \"y_pos\": 488},\n",
        "        {\"x_pos\": 1544, \"y_pos\": 618},\n",
        "        {\"x_pos\": 1544, \"y_pos\": 748},\n",
        "        {\"x_pos\": 1544, \"y_pos\": 878}\n",
        "\n",
        "  ]\n",
        "}\n",
        "\n",
        "chart_classic = {\n",
        "    \"name\": \"ColorChecker Classic\",\n",
        "    \"chip size\": 200,\n",
        "    \"cells\": [\n",
        "        {\"x_pos\": 241, \"y_pos\": 75},\n",
        "        {\"x_pos\": 488, \"y_pos\": 75},\n",
        "        {\"x_pos\": 734, \"y_pos\": 75},\n",
        "        {\"x_pos\": 984, \"y_pos\": 75},\n",
        "        {\"x_pos\": 1230, \"y_pos\": 75},\n",
        "        {\"x_pos\": 1477, \"y_pos\": 75},\n",
        "        {\"x_pos\": 241, \"y_pos\": 317},\n",
        "        {\"x_pos\": 488, \"y_pos\": 317},\n",
        "        {\"x_pos\": 734, \"y_pos\": 317},\n",
        "        {\"x_pos\": 984, \"y_pos\": 317},\n",
        "        {\"x_pos\": 1230, \"y_pos\": 317},\n",
        "        {\"x_pos\": 1477, \"y_pos\": 317},\n",
        "        {\"x_pos\": 241, \"y_pos\": 559},\n",
        "        {\"x_pos\": 488, \"y_pos\": 559},\n",
        "        {\"x_pos\": 734, \"y_pos\": 559},\n",
        "        {\"x_pos\": 984, \"y_pos\": 559},\n",
        "        {\"x_pos\": 1230, \"y_pos\": 559},\n",
        "        {\"x_pos\": 1477, \"y_pos\": 559},\n",
        "        {\"x_pos\": 241, \"y_pos\": 801},\n",
        "        {\"x_pos\": 488, \"y_pos\": 801},\n",
        "        {\"x_pos\": 734, \"y_pos\": 801},\n",
        "        {\"x_pos\": 984, \"y_pos\": 801},\n",
        "        {\"x_pos\": 1230, \"y_pos\": 801},\n",
        "        {\"x_pos\": 1477, \"y_pos\": 801},\n",
        "  ]\n",
        "}"
      ],
      "metadata": {
        "id": "E8w1I7AJPfMe",
        "cellView": "form"
      },
      "execution_count": null,
      "outputs": []
    },
    {
      "cell_type": "markdown",
      "source": [
        "> Upload charts in the cell below. Images should be 1920x1080 pixels. Most common image formats are supported (PNG, JPG, TIFF, etc). ___RAW, DPX, and EXR images are not currently supported___. You can upload one or multiple chart images.\n",
        "Use the overlay images linked below to resize and align your charts as needed.\n",
        "*   [ColorChecker Classic overlay](https://drive.usercontent.google.com/uc?id=1qQWpYkaLnMlqXLvSwDYQumtgM17bEMGa&export=download)\n",
        "*   [Colorchecker Video overlay](https://drive.usercontent.google.com/uc?id=1m0xxWbgpqnlMVV_BDTvdNHWw66Ljg0CB&export=download)"
      ],
      "metadata": {
        "id": "G1x1a2qrdBPa"
      }
    },
    {
      "cell_type": "code",
      "execution_count": null,
      "metadata": {
        "id": "t9HpHCf_UzX3",
        "cellView": "form"
      },
      "outputs": [],
      "source": [
        "# @title Upload Charts\n",
        "# @markdown Run this cell to upload a new set of Color Charts\n",
        "# opt = \"Option 1\" # @param [\"Option 1\",\"Option 2\",\"Option 3\"]\n",
        "uploaded = files.upload()"
      ]
    },
    {
      "cell_type": "code",
      "source": [
        "# @title Extract and print the data from the uploaded charts\n",
        "chart_type = \"ColorChecker Video\" # @param [\"ColorChecker Video\",\"ColorChecker Classic\"]\n",
        "sample_size = 50 # @param {\"type\":\"slider\",\"min\":1,\"max\":100,\"step\":1}\n",
        "\n",
        "if chart_type == \"ColorChecker Video\":\n",
        "  chart_details = chart_video\n",
        "elif chart_type == \"ColorChecker Classic\":\n",
        "  chart_details = chart_classic\n",
        "\n",
        "#  shape\n",
        "#print(numpydata.shape)\n",
        "SIZE = chart_details[\"chip size\"]\n",
        "sample_offset = int( (SIZE - SIZE * sample_size / 100) / 2 )\n",
        "\n",
        "samples_list = []\n",
        "\n",
        "filename = ''\n",
        "for filename in uploaded.keys():\n",
        "  print(f'Filename: {filename}')\n",
        "  img = PIL.Image.open(filename)\n",
        "  numpydata = np.asarray(img)\n",
        "\n",
        "  for chip in chart_details[\"cells\"]:\n",
        "    sample_data = numpydata[\n",
        "        chip[\"y_pos\"] + sample_offset : chip[\"y_pos\"] + SIZE - sample_offset,\n",
        "        chip[\"x_pos\"] + sample_offset : chip[\"x_pos\"] + SIZE - sample_offset\n",
        "    ]\n",
        "    samples_list.append(sample_data.mean(axis=(0,1)))\n",
        "    #print(sample_data.mean(axis=(0,1)))\n",
        "    #break\n",
        "\n",
        "samples_array = np.array(samples_list)[0:, :3]\n",
        "#print(samples_array.shape)\n",
        "#print(samples_array)\n",
        "with open(\"data.csv\",\"w\") as f:\n",
        "  np.savetxt(f, samples_array, delimiter=',', fmt='%8f')"
      ],
      "metadata": {
        "id": "WMd86JsCSAdA",
        "cellView": "form"
      },
      "execution_count": null,
      "outputs": []
    },
    {
      "cell_type": "code",
      "source": [
        "# @title Download or Display data\n",
        "download_or_display = \"Download CSV\" # @param [\"Download CSV\",\"Display CSV\"]\n",
        "\n",
        "if download_or_display == 'Download CSV':\n",
        "  files.download(\"data.csv\")\n",
        "else:\n",
        "  with open(\"data.csv\") as f: # The with keyword automatically closes the file when you are done\n",
        "    print(f.read())"
      ],
      "metadata": {
        "cellView": "form",
        "id": "hQElI-mdI5j1"
      },
      "execution_count": null,
      "outputs": []
    }
  ]
}