{
  "nbformat": 4,
  "nbformat_minor": 0,
  "metadata": {
    "colab": {
      "provenance": []
    },
    "kernelspec": {
      "name": "python3",
      "display_name": "Python 3"
    },
    "language_info": {
      "name": "python"
    }
  },
  "cells": [
    {
      "cell_type": "code",
      "source": [
        "#@title Setup\n",
        "\n",
        "#@markdown Installs dependencies and runs setup code. This cell only needs to be run once.\n",
        "\n",
        "# Imports\n",
        "import numpy as np\n",
        "import PIL\n",
        "from google.colab import files\n",
        "from IPython.display import Image\n",
        "#print('PIL',PIL.__version__)\n",
        "\n",
        "chart_video = {\n",
        "    \"name\": \"ColorChecker Video\",\n",
        "    \"cells\": [\n",
        "        {\"x_pos\": 0, \"y_pos\": 0},\n",
        "        {\"x_pos\": 0, \"y_pos\": 20},\n",
        "        {\"x_pos\": 0, \"y_pos\": 40},\n",
        "        {\"x_pos\": 0, \"y_pos\": 60},\n",
        "        {\"x_pos\": 0, \"y_pos\": 80},\n",
        "        {\"x_pos\": 0, \"y_pos\": 100},\n",
        "        {\"x_pos\": 0, \"y_pos\": 120},\n",
        "        {\"x_pos\": 20, \"y_pos\": 0},\n",
        "        {\"x_pos\": 20, \"y_pos\": 20},\n",
        "        {\"x_pos\": 20, \"y_pos\": 40},\n",
        "        {\"x_pos\": 20, \"y_pos\": 60},\n",
        "        {\"x_pos\": 20, \"y_pos\": 80},\n",
        "        {\"x_pos\": 20, \"y_pos\": 100},\n",
        "        {\"x_pos\": 20, \"y_pos\": 120},\n",
        "        {\"x_pos\": 100, \"y_pos\": 0},\n",
        "        {\"x_pos\": 100, \"y_pos\": 20},\n",
        "        {\"x_pos\": 100, \"y_pos\": 40},\n",
        "        {\"x_pos\": 100, \"y_pos\": 60},\n",
        "        {\"x_pos\": 100, \"y_pos\": 80},\n",
        "        {\"x_pos\": 100, \"y_pos\": 100},\n",
        "        {\"x_pos\": 100, \"y_pos\": 120},\n",
        "        {\"x_pos\": 120, \"y_pos\": 0},\n",
        "        {\"x_pos\": 120, \"y_pos\": 20},\n",
        "        {\"x_pos\": 120, \"y_pos\": 40},\n",
        "        {\"x_pos\": 120, \"y_pos\": 60},\n",
        "        {\"x_pos\": 120, \"y_pos\": 80},\n",
        "        {\"x_pos\": 120, \"y_pos\": 100},\n",
        "        {\"x_pos\": 120, \"y_pos\": 120}\n",
        "\n",
        "  ]\n",
        "}\n",
        "\n",
        "chart_details = {\n",
        "    \"name\": \"ColorChecker Classic\",\n",
        "    \"cells\": [\n",
        "        {\"x_pos\": 50, \"y_pos\": 70},\n",
        "        {\"x_pos\": 295, \"y_pos\": 70},\n",
        "        {\"x_pos\": 540, \"y_pos\": 70},\n",
        "        {\"x_pos\": 785, \"y_pos\": 70},\n",
        "        {\"x_pos\": 1035, \"y_pos\": 70},\n",
        "        {\"x_pos\": 1280, \"y_pos\": 70},\n",
        "        {\"x_pos\": 50, \"y_pos\": 315},\n",
        "        {\"x_pos\": 295, \"y_pos\": 315},\n",
        "        {\"x_pos\": 540, \"y_pos\": 315},\n",
        "        {\"x_pos\": 785, \"y_pos\": 315},\n",
        "        {\"x_pos\": 1035, \"y_pos\": 315},\n",
        "        {\"x_pos\": 1280, \"y_pos\": 315},\n",
        "        {\"x_pos\": 50, \"y_pos\": 70},\n",
        "        {\"x_pos\": 295, \"y_pos\": 560},\n",
        "        {\"x_pos\": 540, \"y_pos\": 560},\n",
        "        {\"x_pos\": 785, \"y_pos\": 560},\n",
        "        {\"x_pos\": 1035, \"y_pos\": 560},\n",
        "        {\"x_pos\": 1280, \"y_pos\": 560},\n",
        "        {\"x_pos\": 50, \"y_pos\": 800},\n",
        "        {\"x_pos\": 295, \"y_pos\": 800},\n",
        "        {\"x_pos\": 540, \"y_pos\": 800},\n",
        "        {\"x_pos\": 785, \"y_pos\": 800},\n",
        "        {\"x_pos\": 1035, \"y_pos\": 800},\n",
        "        {\"x_pos\": 1280, \"y_pos\": 800}\n",
        "  ]\n",
        "}\n",
        "SIZE = 175"
      ],
      "metadata": {
        "id": "E8w1I7AJPfMe",
        "cellView": "form"
      },
      "execution_count": null,
      "outputs": []
    },
    {
      "cell_type": "code",
      "execution_count": null,
      "metadata": {
        "id": "t9HpHCf_UzX3",
        "cellView": "form"
      },
      "outputs": [],
      "source": [
        "# @title Upload Charts\n",
        "# @markdown Run this cell to upload a new set of Color Charts\n",
        "# opt = \"Option 1\" # @param [\"Option 1\",\"Option 2\",\"Option 3\"]\n",
        "uploaded = files.upload()\n",
        "\n",
        "filename = ''\n",
        "for img in uploaded.keys():\n",
        "  filename = img\n",
        "  #break\n",
        "#Image(filename)\n",
        "\n",
        "filename = ''\n",
        "for img in uploaded.keys():\n",
        "  filename = img\n",
        "  #break\n",
        "\n",
        "img = PIL.Image.open(filename)"
      ]
    },
    {
      "cell_type": "code",
      "source": [
        "# @title Extract and print the data from the uploaded charts\n",
        "numpydata = np.asarray(img)\n",
        "\n",
        "#  shape\n",
        "#print(numpydata.shape)\n",
        "#SIZE = 3\n",
        "samples_list = []\n",
        "for chip in chart_details[\"cells\"]:\n",
        "  sample_data = numpydata[ chip[\"y_pos\"]:chip[\"y_pos\"] + SIZE, chip[\"x_pos\"]:chip[\"x_pos\"] + SIZE ]\n",
        "  samples_list.append(sample_data.mean(axis=(0,1)))\n",
        "  #print(sample_data.mean(axis=(0,1)))\n",
        "  #break\n",
        "\n",
        "samples_array = np.array(samples_list)[0:, :3]\n",
        "#print(samples_array.shape)\n",
        "print(samples_array)\n",
        "np.savetxt('data.csv', samples_array, delimiter=',', fmt='%8f')"
      ],
      "metadata": {
        "id": "WMd86JsCSAdA",
        "cellView": "form"
      },
      "execution_count": null,
      "outputs": []
    },
    {
      "cell_type": "code",
      "source": [],
      "metadata": {
        "id": "kDbPcxpjw4JY"
      },
      "execution_count": null,
      "outputs": []
    }
  ]
}